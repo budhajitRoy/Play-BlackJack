{
 "cells": [
  {
   "cell_type": "markdown",
   "metadata": {},
   "source": [
    "## Game Play\n",
    "To play a hand of Blackjack the following steps must be followed:\n",
    "1. Create a deck of 52 cards\n",
    "2. Shuffle the deck\n",
    "3. Ask the Player for their bet\n",
    "4. Make sure that the Player's bet does not exceed their available chips\n",
    "5. Deal two cards to the Dealer and two cards to the Player\n",
    "6. Show only one of the Dealer's cards, the other remains hidden\n",
    "7. Show both of the Player's cards\n",
    "8. Ask the Player if they wish to Hit, and take another card\n",
    "9. If the Player's hand doesn't Bust (go over 21), ask if they'd like to Hit again.\n",
    "10. If a Player Stands, play the Dealer's hand. The dealer will always Hit until the Dealer's value meets or exceeds 17\n",
    "11. Determine the winner and adjust the Player's chips accordingly\n",
    "12. Ask the Player if they'd like to play again"
   ]
  },
  {
   "cell_type": "markdown",
   "metadata": {},
   "source": [
    "## Playing Cards\n",
    "A standard deck of playing cards has four suits (Hearts, Diamonds, Spades and Clubs) and thirteen ranks (2 through 10, then the face cards Jack, Queen, King and Ace) for a total of 52 cards per deck. Jacks, Queens and Kings all have a rank of 10. Aces have a rank of either 11 or 1 as needed to reach 21 without busting. As a starting point in your program, you may want to assign variables to store a list of suits, ranks, and then use a dictionary to map ranks to values."
   ]
  },
  {
   "cell_type": "code",
   "execution_count": 31,
   "metadata": {},
   "outputs": [],
   "source": [
    "#set up and define the necessary parameters\n",
    "import random\n",
    "suits = (\"Hearts\",\"Clubs\",\"Spades\",\"Diamonds\")\n",
    "ranks = (\"Two\",\"Three\",\"Four\",\"Five\",\"Six\",\"Seven\",\"Eight\",\"Nine\",\"Ten\",\"Jack\",\"Queen\",\"King\",\"Ace\")\n",
    "values = {\"Two\":2, \"Three\":3, \"Four\":4, \"Five\":5,\"Six\":6, \"Seven\":7, \"Eight\":8, \"Nine\":9, \"Ten\" :10,\"Jack\" :10,\"Queen\":10,\"King\":10,\"Ace\":10}"
   ]
  },
  {
   "cell_type": "code",
   "execution_count": 32,
   "metadata": {},
   "outputs": [],
   "source": [
    "# create a Card class\n",
    "# this will a Card object\n",
    "class Card:\n",
    "    \n",
    "    def __init__(self, suit, rank):\n",
    "        self.suit = suit\n",
    "        self.rank = rank\n",
    "        self.value = values[rank]\n",
    "        \n",
    "    def __str__(self):\n",
    "        return f\"{self.rank} of {self.suit}\""
   ]
  },
  {
   "cell_type": "code",
   "execution_count": 33,
   "metadata": {},
   "outputs": [],
   "source": [
    "# lets create a card object and test\n",
    "two_clubs = Card(\"Clubs\",\"King\")"
   ]
  },
  {
   "cell_type": "code",
   "execution_count": 34,
   "metadata": {},
   "outputs": [
    {
     "name": "stdout",
     "output_type": "stream",
     "text": [
      "King of Clubs\n"
     ]
    }
   ],
   "source": [
    "print(two_clubs)"
   ]
  },
  {
   "cell_type": "code",
   "execution_count": 35,
   "metadata": {},
   "outputs": [],
   "source": [
    "# Create a Deck Class\n",
    "#this will hold a Deck object\n",
    "\n",
    "class Deck:\n",
    "    \n",
    "    def __init__(self):\n",
    "        deck = []\n",
    "        \n",
    "        for rank in ranks:\n",
    "            for suit in suits:\n",
    "                deck.append(Card(suit,rank))\n",
    "                \n",
    "        self.deck = deck\n",
    "    \n",
    "    # shuffle the cards in the deck\n",
    "    def shuffle(self):\n",
    "        random.shuffle(self.deck)\n",
    "        self.deck\n",
    "        \n",
    "    # deal single card from the deck\n",
    "    def deal_one(self):\n",
    "        return self.deck.pop()\n",
    "    \n",
    "    # print the cards in the deck\n",
    "    def __str__(self):\n",
    "        cards = \"\"\n",
    "        for card in self.deck:\n",
    "            cards += '\\n' + card.__str__()\n",
    "        return cards           "
   ]
  },
  {
   "cell_type": "code",
   "execution_count": 36,
   "metadata": {},
   "outputs": [
    {
     "name": "stdout",
     "output_type": "stream",
     "text": [
      "4\n",
      "3\n",
      "[1, 2]\n"
     ]
    }
   ],
   "source": [
    "# checking pop function\n",
    "list1 = [1,2,3,4]\n",
    "first = list1.pop()\n",
    "second = list1.pop()\n",
    "\n",
    "print(first)\n",
    "print(second)\n",
    "print(list1)"
   ]
  },
  {
   "cell_type": "code",
   "execution_count": 37,
   "metadata": {},
   "outputs": [],
   "source": [
    "# test Deck class\n",
    "new_deck = Deck()"
   ]
  },
  {
   "cell_type": "code",
   "execution_count": 38,
   "metadata": {},
   "outputs": [
    {
     "data": {
      "text/plain": [
       "52"
      ]
     },
     "execution_count": 38,
     "metadata": {},
     "output_type": "execute_result"
    }
   ],
   "source": [
    "len(new_deck.deck)"
   ]
  },
  {
   "cell_type": "code",
   "execution_count": 39,
   "metadata": {},
   "outputs": [
    {
     "name": "stdout",
     "output_type": "stream",
     "text": [
      "\n",
      "Two of Hearts\n",
      "Two of Clubs\n",
      "Two of Spades\n",
      "Two of Diamonds\n",
      "Three of Hearts\n",
      "Three of Clubs\n",
      "Three of Spades\n",
      "Three of Diamonds\n",
      "Four of Hearts\n",
      "Four of Clubs\n",
      "Four of Spades\n",
      "Four of Diamonds\n",
      "Five of Hearts\n",
      "Five of Clubs\n",
      "Five of Spades\n",
      "Five of Diamonds\n",
      "Six of Hearts\n",
      "Six of Clubs\n",
      "Six of Spades\n",
      "Six of Diamonds\n",
      "Seven of Hearts\n",
      "Seven of Clubs\n",
      "Seven of Spades\n",
      "Seven of Diamonds\n",
      "Eight of Hearts\n",
      "Eight of Clubs\n",
      "Eight of Spades\n",
      "Eight of Diamonds\n",
      "Nine of Hearts\n",
      "Nine of Clubs\n",
      "Nine of Spades\n",
      "Nine of Diamonds\n",
      "Ten of Hearts\n",
      "Ten of Clubs\n",
      "Ten of Spades\n",
      "Ten of Diamonds\n",
      "Jack of Hearts\n",
      "Jack of Clubs\n",
      "Jack of Spades\n",
      "Jack of Diamonds\n",
      "Queen of Hearts\n",
      "Queen of Clubs\n",
      "Queen of Spades\n",
      "Queen of Diamonds\n",
      "King of Hearts\n",
      "King of Clubs\n",
      "King of Spades\n",
      "King of Diamonds\n",
      "Ace of Hearts\n",
      "Ace of Clubs\n",
      "Ace of Spades\n",
      "Ace of Diamonds\n"
     ]
    }
   ],
   "source": [
    "print(new_deck)"
   ]
  },
  {
   "cell_type": "code",
   "execution_count": 40,
   "metadata": {},
   "outputs": [
    {
     "name": "stdout",
     "output_type": "stream",
     "text": [
      "\n",
      "King of Diamonds\n",
      "Two of Spades\n",
      "Seven of Diamonds\n",
      "Two of Diamonds\n",
      "Seven of Hearts\n",
      "Six of Diamonds\n",
      "Three of Diamonds\n",
      "Three of Spades\n",
      "Six of Clubs\n",
      "King of Clubs\n",
      "Ten of Hearts\n",
      "Nine of Hearts\n",
      "Queen of Diamonds\n",
      "Eight of Spades\n",
      "Five of Clubs\n",
      "Ace of Spades\n",
      "Four of Spades\n",
      "Two of Hearts\n",
      "Nine of Diamonds\n",
      "Nine of Spades\n",
      "Four of Diamonds\n",
      "Six of Spades\n",
      "Six of Hearts\n",
      "Five of Diamonds\n",
      "King of Spades\n",
      "Two of Clubs\n",
      "Ten of Clubs\n",
      "Ace of Hearts\n",
      "Jack of Clubs\n",
      "Eight of Clubs\n",
      "Ace of Diamonds\n",
      "Seven of Spades\n",
      "Queen of Clubs\n",
      "King of Hearts\n",
      "Nine of Clubs\n",
      "Eight of Hearts\n",
      "Seven of Clubs\n",
      "Jack of Spades\n",
      "Five of Hearts\n",
      "Queen of Spades\n",
      "Five of Spades\n",
      "Four of Clubs\n",
      "Eight of Diamonds\n",
      "Ten of Diamonds\n",
      "Jack of Hearts\n",
      "Queen of Hearts\n",
      "Four of Hearts\n",
      "Jack of Diamonds\n",
      "Ten of Spades\n",
      "Three of Hearts\n",
      "Three of Clubs\n",
      "Ace of Clubs\n"
     ]
    }
   ],
   "source": [
    "#lets test the shuffle function\n",
    "new_deck.shuffle()\n",
    "print(new_deck)"
   ]
  },
  {
   "cell_type": "code",
   "execution_count": 41,
   "metadata": {},
   "outputs": [],
   "source": [
    "#create Player class\n",
    "\n",
    "class Player:\n",
    "    \n",
    "    def __init__(self, name, total_cash):\n",
    "        self.name = name\n",
    "        self.total_cash = total_cash\n",
    "        \n",
    "    def __str__(self):\n",
    "        return \"Player name: {}\".format(self.name)\n",
    "    \n",
    "    def put_bet(self,amount):        \n",
    "        if amount > self.total_cash:\n",
    "            print(\"You dont have enough cash to bet!\")\n",
    "        else:\n",
    "            total_cash -= amount"
   ]
  },
  {
   "cell_type": "code",
   "execution_count": 42,
   "metadata": {},
   "outputs": [
    {
     "name": "stdout",
     "output_type": "stream",
     "text": [
      "Player name: One\n"
     ]
    }
   ],
   "source": [
    "player_one = Player(\"One\",100)\n",
    "print(player_one)"
   ]
  },
  {
   "cell_type": "code",
   "execution_count": 43,
   "metadata": {},
   "outputs": [
    {
     "data": {
      "text/plain": [
       "'\\nclass Hand:\\n    \\n    def __init__(self):\\n        self.cards = []\\n        self.value = 0\\n        self.aces = 0\\n        \\n    def add_cards(self, card):\\n        self.cards.append(card)\\n        self.value += values[card.rank]\\n        if card.rank == \"Ace\":\\n            self.aces += 1\\n        \\n    def adjust_ace(self):\\n        pass         \\n'"
      ]
     },
     "execution_count": 43,
     "metadata": {},
     "output_type": "execute_result"
    }
   ],
   "source": [
    "# create Hand class\n",
    "\"\"\"\n",
    "class Hand:\n",
    "    \n",
    "    def __init__(self):\n",
    "        self.cards = []\n",
    "        self.value = 0\n",
    "        self.aces = 0\n",
    "        \n",
    "    def add_cards(self, card):\n",
    "        self.cards.append(card)\n",
    "        self.value += values[card.rank]\n",
    "        if card.rank == \"Ace\":\n",
    "            self.aces += 1\n",
    "        \n",
    "    def adjust_ace(self):\n",
    "        pass         \n",
    "\"\"\"     \n",
    "        "
   ]
  },
  {
   "cell_type": "code",
   "execution_count": 45,
   "metadata": {},
   "outputs": [],
   "source": [
    "# create Hand class\n",
    "# lets implement the ace logic here\n",
    "class Hand:\n",
    "    \n",
    "    def __init__(self):\n",
    "        self.cards = []\n",
    "        self.value = 0\n",
    "        self.aces = 0\n",
    "        \n",
    "    def add_cards(self, card):\n",
    "        self.cards.append(card)\n",
    "        self.value += values[card.rank]\n",
    "        if card.rank == \"Ace\":\n",
    "            self.aces += 1\n",
    "        \n",
    "    def adjust_ace(self):\n",
    "        while self.value > 21 and self.aces:\n",
    "            self.value -= 10\n",
    "            self.aces -= 1    \n",
    "    "
   ]
  },
  {
   "cell_type": "code",
   "execution_count": 46,
   "metadata": {},
   "outputs": [],
   "source": [
    "# create a Chip class\n",
    "# this will act like a bank of chips\n",
    "class Chips:\n",
    "    \n",
    "    def __init__(self):\n",
    "        self.total = 100\n",
    "        self.bet = 0\n",
    "        \n",
    "    def win_bet(self):\n",
    "        self.total += self.bet\n",
    "        \n",
    "    def lose_bet(self):\n",
    "        self.total -= self.bet\n",
    "        \n",
    "    def __str__(self):\n",
    "        return str(self.total)        "
   ]
  },
  {
   "cell_type": "code",
   "execution_count": 47,
   "metadata": {},
   "outputs": [],
   "source": [
    "#write some functions to take bets\n",
    "\n",
    "def take_bets(chips):\n",
    "    while True:\n",
    "        try:\n",
    "            chips.bet = int(input(\"Please provide the amount you want to bet: \"))\n",
    "        except ValueError:\n",
    "            print(\"You must provide an integer value!!\")\n",
    "        else:\n",
    "            if chips.bet > chips.total:\n",
    "                print(\"You do not have sufficient funds to bet.\")\n",
    "            else:\n",
    "                break  "
   ]
  },
  {
   "cell_type": "code",
   "execution_count": 48,
   "metadata": {},
   "outputs": [],
   "source": [
    "# define hit \n",
    "# will accept a deck and a hand\n",
    "# basically a card will be added to the hand from the deal\n",
    "def hit(deck,hand):\n",
    "    hand.add_cards(deck.deal_one())\n",
    "    hand.adjust_ace()"
   ]
  },
  {
   "cell_type": "code",
   "execution_count": 49,
   "metadata": {},
   "outputs": [],
   "source": [
    "# define hit or stand\n",
    "# ask the player to either hit or stand\n",
    "\n",
    "def hit_stand(deck,hand):\n",
    "    \n",
    "    global playing\n",
    "    \n",
    "    while True:\n",
    "        \n",
    "        user_input = input(\"Please choose to hit or stand. press h or s: \")\n",
    "        \n",
    "        if user_input[0] == \"h\":\n",
    "            hit(deck,hand)\n",
    "        elif user_input[0] == \"s\":\n",
    "            playing = False\n",
    "            print(\"Its Dealer's turn now\")\n",
    "        else:\n",
    "            print(\"I do not understand the input. Please press h or s\")\n",
    "            continue\n",
    "        break"
   ]
  },
  {
   "cell_type": "code",
   "execution_count": 50,
   "metadata": {},
   "outputs": [],
   "source": [
    "# define the functions to dispay the card\n",
    "\n",
    "def show_some(player,dealer):\n",
    "    # show only the second card for the dealer and hide the first card\n",
    "    \n",
    "    print(\"\\n Dealer's Hand: \")\n",
    "    print(\"First Card Hidden!!\")\n",
    "    print(dealer.cards[1])\n",
    "    \n",
    "    # show all the cards for the player\n",
    "    print(\"\\n Player's Hand\")\n",
    "    for card in player.cards:\n",
    "        print(card)\n",
    "        \n",
    "def show_all(player,dealer):\n",
    "    \n",
    "    # show all cards for the dealer and calculate the value of the cards as well\n",
    "    print(\"\\n Dealer's Hand\")\n",
    "    for card in dealer.cards:\n",
    "        print(card)\n",
    "    print(f\"Dealer's Value : {dealer.value}\")\n",
    "    \n",
    "    # show all cards for the player as well\n",
    "    print(\"\\n Player's Hand\")\n",
    "    for card in player.cards:\n",
    "        print(card)\n",
    "    print(f\"Player's Value : {player.value}\")"
   ]
  },
  {
   "cell_type": "code",
   "execution_count": 51,
   "metadata": {},
   "outputs": [
    {
     "name": "stdout",
     "output_type": "stream",
     "text": [
      "Items in the list are: \n",
      "1\n",
      "2\n",
      "3\n",
      "4\n",
      "5\n"
     ]
    }
   ],
   "source": [
    "# another way to print out items in an iterable\n",
    "\n",
    "list1 = [1,2,3,4,5]\n",
    "\n",
    "print(\"Items in the list are: \", *list1, sep = \"\\n\") # sep will be used as a separator for the displaying items"
   ]
  },
  {
   "cell_type": "code",
   "execution_count": 52,
   "metadata": {},
   "outputs": [
    {
     "name": "stdout",
     "output_type": "stream",
     "text": [
      "Items in tuple: \t1\t2\t3\t4\t5\t6\n"
     ]
    }
   ],
   "source": [
    "# for tuples\n",
    "tup = (1,2,3,4,5,6)\n",
    "print(\"Items in tuple: \", *tup, sep = \"\\t\")"
   ]
  },
  {
   "cell_type": "code",
   "execution_count": 53,
   "metadata": {},
   "outputs": [
    {
     "name": "stdout",
     "output_type": "stream",
     "text": [
      "Items in tuple:  1 2 3 4 5 6\n"
     ]
    }
   ],
   "source": [
    "print(\"Items in tuple: \", *tup)"
   ]
  },
  {
   "cell_type": "code",
   "execution_count": 54,
   "metadata": {},
   "outputs": [],
   "source": [
    "#lets setup the game win and lose scenario functions\n",
    "\n",
    "def player_wins(player, dealer, chips):\n",
    "    print(\"PLAYER WINS\")\n",
    "    chips.win_bet()\n",
    "    \n",
    "def dealer_wins(player, dealer, chips):\n",
    "    print(\"DEALER WINS\")\n",
    "    chips.lose_bet()\n",
    "    \n",
    "def player_bust(player, dealer, chips):\n",
    "    print(\"DEALER WINS!! PLAYER BUSTED!\")\n",
    "    chips.lost_bet()\n",
    "    \n",
    "def dealer_bust(player, dealer, chips):\n",
    "    print(\"PLAYER WINS!! DEALER BUSTED!!\")\n",
    "    chips.win_bet()\n",
    "    \n",
    "def push(player, dealer):\n",
    "    print(\"Dealer and Player tie, PUSH!!\")"
   ]
  },
  {
   "cell_type": "code",
   "execution_count": 55,
   "metadata": {},
   "outputs": [],
   "source": [
    "playing = True"
   ]
  },
  {
   "cell_type": "code",
   "execution_count": 56,
   "metadata": {},
   "outputs": [
    {
     "name": "stdout",
     "output_type": "stream",
     "text": [
      "Welcome to Black Jack\n",
      "Please provide the amount you want to bet: 59\n",
      "\n",
      " Dealer's Hand: \n",
      "First Card Hidden!!\n",
      "Jack of Clubs\n",
      "\n",
      " Player's Hand\n",
      "Eight of Diamonds\n",
      "Five of Clubs\n",
      "Please choose to hit or stand. press h or s: h\n",
      "\n",
      " Dealer's Hand: \n",
      "First Card Hidden!!\n",
      "Jack of Clubs\n",
      "\n",
      " Player's Hand\n",
      "Eight of Diamonds\n",
      "Five of Clubs\n",
      "Four of Diamonds\n",
      "Please choose to hit or stand. press h or s: h\n",
      "\n",
      " Dealer's Hand: \n",
      "First Card Hidden!!\n",
      "Jack of Clubs\n",
      "\n",
      " Player's Hand\n",
      "Eight of Diamonds\n",
      "Five of Clubs\n",
      "Four of Diamonds\n",
      "Ace of Diamonds\n",
      "Please choose to hit or stand. press h or s: s\n",
      "Its Dealer's turn now\n",
      "\n",
      " Dealer's Hand: \n",
      "First Card Hidden!!\n",
      "Jack of Clubs\n",
      "\n",
      " Player's Hand\n",
      "Eight of Diamonds\n",
      "Five of Clubs\n",
      "Four of Diamonds\n",
      "Ace of Diamonds\n",
      "\n",
      " Dealer's Hand\n",
      "Five of Diamonds\n",
      "Jack of Clubs\n",
      "Four of Spades\n",
      "Dealer's Value : 19\n",
      "\n",
      " Player's Hand\n",
      "Eight of Diamonds\n",
      "Five of Clubs\n",
      "Four of Diamonds\n",
      "Ace of Diamonds\n",
      "Player's Value : 17\n",
      "DEALER WINS\n",
      "Final chips value for the player : 41\n",
      "Do you want to play again? n\n",
      "Thank you for playing!!\n"
     ]
    }
   ],
   "source": [
    "# lets define the final game logic \n",
    "while True:\n",
    "    print(\"Welcome to Black Jack\")\n",
    "\n",
    "    # create a new deck and shuffle\n",
    "\n",
    "    deck = Deck()\n",
    "    deck.shuffle()\n",
    "\n",
    "    # create player and dealer hands and add two cards to both of them\n",
    "\n",
    "    player = Hand()\n",
    "    player.add_cards(deck.deal_one())\n",
    "    player.add_cards(deck.deal_one())\n",
    "\n",
    "    dealer = Hand()\n",
    "    dealer.add_cards(deck.deal_one())\n",
    "    dealer.add_cards(deck.deal_one())\n",
    "\n",
    "    # set up player's chips\n",
    "\n",
    "    player_chips = Chips()\n",
    "\n",
    "    # prompt the player for their first bet\n",
    "    take_bets(player_chips)\n",
    "\n",
    "    # show cards but one card hidden for the dealer\n",
    "    show_some(player, dealer)\n",
    "\n",
    "    #start the game logic loop\n",
    "    while playing:\n",
    "\n",
    "        # check with the player if he wants to hit or stand\n",
    "        hit_stand(deck, player)\n",
    "\n",
    "        #show some cards again\n",
    "        show_some(player,dealer)\n",
    "\n",
    "        #check if player busted\n",
    "        if player.value > 21:\n",
    "            player_bust(player, dealer, player_chips)\n",
    "            break\n",
    "\n",
    "    # if player's value isnt busted, then dealers turn to hit\n",
    "    if player.value<= 21:\n",
    "\n",
    "        while dealer.value < 17:\n",
    "            hit(deck,dealer)\n",
    "\n",
    "        # show all cards\n",
    "        show_all(player, dealer)\n",
    "\n",
    "        # run all winning scenarios\n",
    "        if dealer.value > 21:\n",
    "            dealer_bust(player, dealer, player_chips)\n",
    "        elif dealer.value > player.value:\n",
    "            dealer_wins(player, dealer, player_chips)\n",
    "        elif dealer.value <player.value:\n",
    "            player_wins(player, dealer, player_chips)\n",
    "        else:\n",
    "            push(player, dealer)\n",
    "\n",
    "\n",
    "    # settle the chips for the player\n",
    "    print(\"Final chips value for the player : {}\".format(player_chips))\n",
    "\n",
    "    #ask the player if he want to play again\n",
    "    user_input = input(\"Do you want to play again? \")\n",
    "    if user_input[0].lower() =='y':\n",
    "        playing = True\n",
    "        continue\n",
    "    else:\n",
    "        print(\"Thank you for playing!!\")\n",
    "        break\n",
    "        "
   ]
  },
  {
   "cell_type": "markdown",
   "metadata": {},
   "source": [
    "### just my notes for learning\n",
    "A framework is a type of software library that provides generic functionality which can be extended by the programmer to build applications. Flask and Django are good examples of frameworks intended for web development.\n",
    "\n",
    "A framework is distinguished from a simple library or API. An API is a piece of software that a developer can use in his or her application. A framework is more encompassing: your entire application is structured around the framework (i.e. it provides the framework around which you build your software)."
   ]
  },
  {
   "cell_type": "markdown",
   "metadata": {},
   "source": [
    "## Thank You"
   ]
  },
  {
   "cell_type": "code",
   "execution_count": null,
   "metadata": {},
   "outputs": [],
   "source": []
  },
  {
   "cell_type": "code",
   "execution_count": null,
   "metadata": {},
   "outputs": [],
   "source": []
  }
 ],
 "metadata": {
  "kernelspec": {
   "display_name": "Python 3 (ipykernel)",
   "language": "python",
   "name": "python3"
  },
  "language_info": {
   "codemirror_mode": {
    "name": "ipython",
    "version": 3
   },
   "file_extension": ".py",
   "mimetype": "text/x-python",
   "name": "python",
   "nbconvert_exporter": "python",
   "pygments_lexer": "ipython3",
   "version": "3.9.5"
  }
 },
 "nbformat": 4,
 "nbformat_minor": 2
}
